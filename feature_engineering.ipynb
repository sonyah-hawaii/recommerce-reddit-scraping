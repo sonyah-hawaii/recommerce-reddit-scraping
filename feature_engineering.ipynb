{
 "cells": [
  {
   "cell_type": "markdown",
   "metadata": {},
   "source": [
    "## Feature Engineering\n",
    "- `is_poll` flag\n",
    "- sentiment labeling\n",
    "- `other_platform` mentioned tag"
   ]
  },
  {
   "cell_type": "code",
   "execution_count": 1,
   "metadata": {},
   "outputs": [],
   "source": [
    "import os\n",
    "import json\n",
    "import numpy as np\n",
    "import pandas as pd\n",
    "import matplotlib.pyplot as plt\n",
    "from nltk.stem import WordNetLemmatizer\n",
    "from nltk.tokenize import RegexpTokenizer\n",
    "from nltk.corpus import stopwords\n",
    "from sklearn.feature_extraction.text import CountVectorizer\n",
    "from sklearn.cluster import KMeans, DBSCAN"
   ]
  },
  {
   "cell_type": "code",
   "execution_count": 2,
   "metadata": {},
   "outputs": [],
   "source": [
    "comments = pd.DataFrame()\n",
    "posts = pd.DataFrame()\n",
    "\n",
    "for file in os.listdir('./Data/comments/csv'):\n",
    "    temp = pd.read_csv(f'./Data/comments/cleaned/{file}', low_memory=False)\n",
    "    comments = pd.concat([comments, temp])\n",
    "    \n",
    "for file in os.listdir('./Data/posts/csv'):\n",
    "    temp = pd.read_csv(f'./Data/posts/cleaned/{file}', low_memory=False)\n",
    "    posts = pd.concat([posts, temp])\n",
    "\n",
    "posts.dropna(axis=0, subset=['selftext'], inplace=True)\n",
    "comments.dropna(axis=0, subset=['body'], inplace=True)\n",
    "\n",
    "comments.reset_index(drop=False, names=['original_index'], inplace=True)\n",
    "posts.reset_index(drop=False, names=['original_index'], inplace=True)"
   ]
  },
  {
   "cell_type": "code",
   "execution_count": 3,
   "metadata": {},
   "outputs": [],
   "source": [
    "posts['is_poll'] = posts['poll_data'].apply(lambda x: False if x is np.nan else True)"
   ]
  },
  {
   "cell_type": "code",
   "execution_count": 4,
   "metadata": {},
   "outputs": [],
   "source": [
    "def other_platform(record) -> bool:\n",
    "    other_platforms = [\n",
    "        'Depop', 'EtsySellers', 'Etsy', \n",
    "        'Flipping', 'Grailed', 'poshmark','stockx', \n",
    "        'Mercari', 'ThredUp', 'TheRealReal', 'TRR',\n",
    "        'Ebay', 'FB Marketplace'\n",
    "                       ]\n",
    "    platform = posts.loc[record,'subreddit'].lower()\n",
    "    other_platforms = [i.lower() for i in other_platforms if i.lower() != platform]\n",
    "    all_text = str(posts.loc[record,'selftext']) + str(posts.loc[record,'author_flair_text']) + str(posts.loc[record,'poll_data'])\n",
    "    for n in other_platforms:\n",
    "        if n in all_text.lower():\n",
    "            return True\n",
    "    return False"
   ]
  },
  {
   "cell_type": "code",
   "execution_count": 5,
   "metadata": {},
   "outputs": [],
   "source": [
    "posts['other_platform'] = [other_platform(x) for x in posts.index]"
   ]
  },
  {
   "cell_type": "code",
   "execution_count": 6,
   "metadata": {},
   "outputs": [
    {
     "data": {
      "text/plain": [
       "other_platform\n",
       "False    152925\n",
       "True      34876\n",
       "Name: count, dtype: int64"
      ]
     },
     "execution_count": 6,
     "metadata": {},
     "output_type": "execute_result"
    }
   ],
   "source": [
    "posts['other_platform'].value_counts()"
   ]
  },
  {
   "cell_type": "code",
   "execution_count": 10,
   "metadata": {},
   "outputs": [
    {
     "data": {
      "text/plain": [
       "original_index         int64\n",
       "subreddit_id          object\n",
       "subreddit             object\n",
       "subreddit_type        object\n",
       "id                    object\n",
       "parent_id             object\n",
       "link_id               object\n",
       "author                object\n",
       "created_utc            int64\n",
       "score                  int64\n",
       "controversiality        bool\n",
       "ups                  float64\n",
       "likes                  int64\n",
       "body                  object\n",
       "author_flair_text     object\n",
       "created               object\n",
       "dtype: object"
      ]
     },
     "execution_count": 10,
     "metadata": {},
     "output_type": "execute_result"
    }
   ],
   "source": [
    "comments.dtypes"
   ]
  },
  {
   "cell_type": "code",
   "execution_count": 11,
   "metadata": {},
   "outputs": [
    {
     "data": {
      "text/plain": [
       "original_index        int64\n",
       "subreddit            object\n",
       "subreddit_id         object\n",
       "subreddit_type       object\n",
       "id                   object\n",
       "name                 object\n",
       "media                object\n",
       "is_video               bool\n",
       "created_utc           int64\n",
       "num_comments          int64\n",
       "score                 int64\n",
       "ups                   int64\n",
       "selftext             object\n",
       "author_flair_text    object\n",
       "link_flair_text      object\n",
       "poll_data            object\n",
       "created              object\n",
       "is_poll                bool\n",
       "other_platform         bool\n",
       "dtype: object"
      ]
     },
     "execution_count": 11,
     "metadata": {},
     "output_type": "execute_result"
    }
   ],
   "source": [
    "posts.dtypes"
   ]
  },
  {
   "cell_type": "code",
   "execution_count": 12,
   "metadata": {},
   "outputs": [
    {
     "data": {
      "text/plain": [
       "original_index            0\n",
       "subreddit                 0\n",
       "subreddit_id              0\n",
       "subreddit_type        30924\n",
       "id                        0\n",
       "name                  59413\n",
       "media                187790\n",
       "is_video                  0\n",
       "created_utc               0\n",
       "num_comments              0\n",
       "score                     0\n",
       "ups                       0\n",
       "selftext                  0\n",
       "author_flair_text    172600\n",
       "link_flair_text      102377\n",
       "poll_data            186613\n",
       "created                   0\n",
       "is_poll                   0\n",
       "other_platform            0\n",
       "dtype: int64"
      ]
     },
     "execution_count": 12,
     "metadata": {},
     "output_type": "execute_result"
    }
   ],
   "source": [
    "posts.isnull().sum()"
   ]
  },
  {
   "cell_type": "markdown",
   "metadata": {},
   "source": [
    "### Polls\n",
    "- `total_votes`\n",
    "- `options_text`\n",
    "- `options_weighting` _later_\n",
    "- Use `author_flair_text` to indicate if:\n",
    "  - someone is a marked buyer\n",
    "  - someone is marked seller\n",
    "  - someone adds their store tag _(improve)_\n",
    "\n",
    "- Review `flair_tags` and generate further labels in combination with CVEC terms"
   ]
  },
  {
   "cell_type": "code",
   "execution_count": 108,
   "metadata": {},
   "outputs": [],
   "source": [
    "sample_poll_1 = {\n",
    "    'is_prediction': False, \n",
    "    'options': [\n",
    "        {'id': '20094950', 'text': 'Goat', 'vote_count': 50},\n",
    "        {'id': '20094951', 'text': 'Stockx', 'vote_count': 51}\n",
    "        ],\n",
    "    'prediction_status': None,\n",
    "    'resolved_option_id': None,\n",
    "    'total_stake_amount': None, \n",
    "    'total_vote_count': 101, \n",
    "    'tournament_id': None, \n",
    "    'user_selection': None, \n",
    "    'user_won_amount': None, \n",
    "    'vote_updates_remained': None, \n",
    "    'voting_end_timestamp': 1669935211731\n",
    "    }\n",
    "\n",
    "sample_poll_2 = {\n",
    "    'options': [\n",
    "        {'id': '83067', \n",
    "         'text': 'Only dropshipping is bad', \n",
    "         'vote_count': 44},\n",
    "        {'id': '83068', \n",
    "         'text': 'Both are bad, but dropshipping significantly worse', \n",
    "         'vote_count': 74},\n",
    "        {'id': '83069',\n",
    "         'text': 'Both are equally bad',\n",
    "         'vote_count': 50},\n",
    "        {'id': '83070',\n",
    "         'text': 'Neither are bad', \n",
    "         'vote_count': 7}\n",
    "        ], \n",
    "    'total_vote_count': 175, \n",
    "    'user_selection': None, \n",
    "    'voting_end_timestamp': 1585745394498\n",
    "    }\n"
   ]
  },
  {
   "cell_type": "code",
   "execution_count": 109,
   "metadata": {},
   "outputs": [],
   "source": [
    "posts['poll_votes'] = posts['poll_data'].apply(lambda x: eval(x)['total_vote_count'] if isinstance(x, str) else 0)"
   ]
  },
  {
   "cell_type": "code",
   "execution_count": 263,
   "metadata": {},
   "outputs": [
    {
     "name": "stderr",
     "output_type": "stream",
     "text": [
      "C:\\Users\\sonya\\AppData\\Local\\Temp\\ipykernel_7308\\2661875794.py:1: FutureWarning: A value is trying to be set on a copy of a DataFrame or Series through chained assignment using an inplace method.\n",
      "The behavior will change in pandas 3.0. This inplace method will never work because the intermediate object on which we are setting values always behaves as a copy.\n",
      "\n",
      "For example, when doing 'df[col].method(value, inplace=True)', try using 'df.method({col: value}, inplace=True)' or df[col] = df[col].method(value) instead, to perform the operation inplace on the original object.\n",
      "\n",
      "\n",
      "  posts['author_flair_text'].fillna('-', inplace=True)\n",
      "C:\\Users\\sonya\\AppData\\Local\\Temp\\ipykernel_7308\\2661875794.py:2: FutureWarning: A value is trying to be set on a copy of a DataFrame or Series through chained assignment using an inplace method.\n",
      "The behavior will change in pandas 3.0. This inplace method will never work because the intermediate object on which we are setting values always behaves as a copy.\n",
      "\n",
      "For example, when doing 'df[col].method(value, inplace=True)', try using 'df.method({col: value}, inplace=True)' or df[col] = df[col].method(value) instead, to perform the operation inplace on the original object.\n",
      "\n",
      "\n",
      "  comments['author_flair_text'].fillna('-', inplace=True)\n"
     ]
    }
   ],
   "source": [
    "posts['author_flair_text'].fillna('-', inplace=True)\n",
    "comments['author_flair_text'].fillna('-', inplace=True)"
   ]
  },
  {
   "cell_type": "code",
   "execution_count": 264,
   "metadata": {},
   "outputs": [],
   "source": [
    "posts['buyer'] = [1 if 'buyer' in x.lower() else 0 for x in posts['author_flair_text']]\n",
    "posts['seller'] = [1 if 'seller' in x.lower() else 0 for x in posts['author_flair_text']]\n",
    "posts['shop_tag'] = [1 if ('@' in x.lower()) | ('etsy' in x.lower()) | ('depop' in x.lower()) else 0 for x in posts['author_flair_text']]\n",
    "\n",
    "comments['buyer'] = [1 if 'buyer' in x.lower() else 0 for x in comments['author_flair_text']]\n",
    "comments['seller'] = [1 if 'seller' in x.lower() else 0 for x in comments['author_flair_text']]"
   ]
  },
  {
   "cell_type": "code",
   "execution_count": 98,
   "metadata": {},
   "outputs": [],
   "source": [
    "def poll_options(poll_data: str) -> str:\n",
    "    if isinstance(poll_data, str):\n",
    "        poll_data = eval(str(poll_data))\n",
    "        options = [i['text'] for i in poll_data['options']]\n",
    "        return ', '.join(options)"
   ]
  },
  {
   "cell_type": "code",
   "execution_count": 99,
   "metadata": {},
   "outputs": [],
   "source": [
    "# posts['poll_options'] = posts['poll_data'].apply(lambda x: poll_options(x) if isinstance(x, str) else None)\n",
    "posts['poll_options'] = posts['poll_data'].apply(poll_options)"
   ]
  },
  {
   "cell_type": "markdown",
   "metadata": {},
   "source": [
    "### Topic Generation\n",
    "- Creating list of general topics with simple text processing and `CVEC`"
   ]
  },
  {
   "cell_type": "code",
   "execution_count": 3,
   "metadata": {},
   "outputs": [
    {
     "name": "stderr",
     "output_type": "stream",
     "text": [
      "C:\\Users\\sonya\\AppData\\Local\\Temp\\ipykernel_7308\\1494977186.py:1: DtypeWarning: Columns (7,16,21) have mixed types. Specify dtype option on import or set low_memory=False.\n",
      "  posts = pd.read_csv('./Data/preprocessed/posts.csv')\n",
      "C:\\Users\\sonya\\AppData\\Local\\Temp\\ipykernel_7308\\1494977186.py:2: DtypeWarning: Columns (4,15) have mixed types. Specify dtype option on import or set low_memory=False.\n",
      "  comments = pd.read_csv('./Data/preprocessed/comments.csv')\n"
     ]
    }
   ],
   "source": [
    "posts = pd.read_csv('./Data/preprocessed/posts.csv', low_memory=False)\n",
    "comments = pd.read_csv('./Data/preprocessed/comments.csv', low_memory=False)"
   ]
  },
  {
   "cell_type": "code",
   "execution_count": 7,
   "metadata": {},
   "outputs": [],
   "source": [
    "## Original/simple processor function\n",
    "\n",
    "# def remove_stopwords(sentence: str) -> str:\n",
    "#     stopwords_ = stopwords.words('english')\n",
    "#     sentence = sentence.split(' ')\n",
    "#     output = [word for word in sentence if word.lower() not in stopwords_]\n",
    "#     return ' '.join(output).replace('\\n', ' ').strip()"
   ]
  },
  {
   "cell_type": "code",
   "execution_count": 16,
   "metadata": {},
   "outputs": [],
   "source": [
    "posts.dropna(subset='selftext', inplace=True)"
   ]
  },
  {
   "cell_type": "code",
   "execution_count": 17,
   "metadata": {},
   "outputs": [],
   "source": [
    "# \n",
    "\n",
    "tokenizer = RegexpTokenizer(r'[A-Za-z]+')\n",
    "lemmatizer = WordNetLemmatizer()\n",
    "all_stopwords = stopwords.words('english') + [\n",
    "    'anyone','someone','everyone','everybody',\n",
    "    'also','you','your','etsy','depop','grailed','ebay','stockx',\n",
    "    'http','www','com','reddit'] + posts['subreddit'].unique()\n",
    "\n",
    "def post_processor(sentence: str, tokenizer, lemmatizer, stopwords) -> str:\n",
    "\n",
    "    tokenized = tokenizer.tokenize(sentence.lower())\n",
    "    lemmatized = [lemmatizer.lemmatize(i) for i in tokenized]\n",
    "    no_stopwords = [w for w in lemmatized if w not in all_stopwords]\n",
    "    return ' '.join(no_stopwords).replace('\\n', ' ').strip()\n",
    "    \n",
    "j = 0\n",
    "total_posts = len(posts)\n",
    "cleaned_posts = []\n",
    "for post in posts['selftext']:\n",
    "    cleaned_posts.append(post_processor(post, tokenizer, lemmatizer, all_stopwords))\n",
    "\n",
    "posts['cleaned_text'] = cleaned_posts"
   ]
  },
  {
   "cell_type": "code",
   "execution_count": 271,
   "metadata": {},
   "outputs": [],
   "source": [
    "vectorizer_topics = CountVectorizer(\n",
    "    analyzer='word',\n",
    "    tokenizer=None,\n",
    "    preprocessor=None,\n",
    "    stop_words=None,\n",
    "    max_features=500,\n",
    "    # no min_df needed with 2, 3grams\n",
    "    # min_df=0.1, # no need to set max_df based on initial output\n",
    "    ngram_range=(2)\n",
    ")\n",
    "output_phrases = vectorizer_topics.fit_transform(cleaned_posts)\n",
    "topics_counts = pd.DataFrame(output_phrases.toarray(),\n",
    "                             columns=vectorizer_topics.get_feature_names_out()).sum().sort_values(\n",
    "                                 ascending=False)"
   ]
  },
  {
   "cell_type": "code",
   "execution_count": 272,
   "metadata": {},
   "outputs": [],
   "source": [
    "topics = {\n",
    "    'customer': ['buyer','customer'],\n",
    "    'item': ['item','product'],\n",
    "    'selling': ['sell','selling','seller','profit'],\n",
    "    'order': ['sale','sold','purchase','order'],\n",
    "    'return': ['refund','return','get money back'],\n",
    "    'problem': ['case', 'issue', 'bad review'],\n",
    "    'money/payment': ['money','paypal','offer','price','pay','fee','cost'],\n",
    "    'listing': ['listing','post','description','descript','describe'],\n",
    "    'flipping': ['flip','flipping','resale','resold','resell'],\n",
    "    'account': ['account','review','store','shop','business'],\n",
    "    'images': ['photo', 'picture','pictures','image','images'],\n",
    "    'shipping': ['shipping','ship','sent','package','shipped','label','tracking','send', 'post office','free shipping','received', 'usps'],\n",
    "    'advice': ['advice','look','looking','search'],\n",
    "    # 'full time': ['full time', 'fulltime'],\n",
    "    # 'part time': ['part time', 'parttime']\n",
    "}\n",
    "\n",
    "all_topics = []\n",
    "# want to include both text body and poll options only for topic labeling\n",
    "# not for future sentiment labeling\n",
    "# thus, done in this step and not preprocessing\n",
    "cleantext_w_polloptions = posts['cleaned_text']+posts['poll_options'].fillna('')\n",
    "\n",
    "# [posts[f'{i}'] for i in topics.keys()]\n",
    "\n",
    "def topic_labeler(sentence: str, topics: dict) -> bool:\n",
    "    output_ = {}\n",
    "    for topic, terms in topics.items():\n",
    "        output_[topic] = any(map(lambda v: v in sentence.split(' '), terms))\n",
    "    return output_\n",
    "\n",
    "topic_matrix = [topic_labeler(sentence, topics=topics) for sentence in cleantext_w_polloptions]\n",
    "topic_df = pd.DataFrame(topic_matrix)\n",
    "topic_df['topic_count'] = topic_df.sum(axis=1)"
   ]
  },
  {
   "cell_type": "code",
   "execution_count": 273,
   "metadata": {},
   "outputs": [
    {
     "data": {
      "text/plain": [
       "feel like         7786\n",
       "wa wondering      6380\n",
       "would like        5524\n",
       "shipping label    5220\n",
       "let know          5026\n",
       "                  ... \n",
       "need get           634\n",
       "gift card          632\n",
       "told would         631\n",
       "fb marketplace     630\n",
       "seller buyer       630\n",
       "Length: 496, dtype: int64"
      ]
     },
     "execution_count": 273,
     "metadata": {},
     "output_type": "execute_result"
    }
   ],
   "source": [
    "all_topics = []\n",
    "[all_topics.extend(i) for i in topics.values()]\n",
    "topics_counts.drop(index = [i for i in topics_counts.index if i in all_topics])"
   ]
  },
  {
   "cell_type": "code",
   "execution_count": 242,
   "metadata": {},
   "outputs": [
    {
     "data": {
      "text/plain": [
       "topic_count      3.316420\n",
       "selling          0.409093\n",
       "order            0.400419\n",
       "item             0.387096\n",
       "shipping         0.374210\n",
       "account          0.358299\n",
       "money/payment    0.331644\n",
       "listing          0.243353\n",
       "customer         0.227091\n",
       "advice           0.219493\n",
       "problem          0.114595\n",
       "return           0.101725\n",
       "images           0.092263\n",
       "flipping         0.057140\n",
       "dtype: float64"
      ]
     },
     "execution_count": 242,
     "metadata": {},
     "output_type": "execute_result"
    }
   ],
   "source": [
    "topic_df.sum().sort_values(ascending=False)/len(topic_df)"
   ]
  },
  {
   "cell_type": "code",
   "execution_count": 243,
   "metadata": {},
   "outputs": [
    {
     "data": {
      "image/png": "[encoded data removed]",
      "text/plain": [
       "<Figure size 640x480 with 1 Axes>"
      ]
     },
     "metadata": {},
     "output_type": "display_data"
    }
   ],
   "source": [
    "pd.DataFrame(topic_df['topic_count'].value_counts().sort_index()).plot(kind='bar', \n",
    "                                                         rot=0.5,\n",
    "                                                         xlabel='Num. Topics',\n",
    "                                                         ylabel='Num. Posts',\n",
    "                                                         use_index=True,\n",
    "                                                         width=0.97\n",
    "                                                         );"
   ]
  },
  {
   "cell_type": "code",
   "execution_count": null,
   "metadata": {},
   "outputs": [],
   "source": [
    "posts_w_topics = pd.merge(posts, pd.DataFrame(topic_matrix), left_index=True, right_index=True)"
   ]
  },
  {
   "cell_type": "code",
   "execution_count": 292,
   "metadata": {},
   "outputs": [],
   "source": [
    "clustering_vectorizer = CountVectorizer(\n",
    "    analyzer='word',\n",
    "    tokenizer=None,\n",
    "    preprocessor=None,\n",
    "    stop_words=None,\n",
    "    max_features=10_000,\n",
    "    min_df=0.2,\n",
    "    ngram_range=(1,3)\n",
    ")\n",
    "output_phrases = clustering_vectorizer.fit_transform(cleaned_posts)\n",
    "topics_counts = pd.DataFrame(output_phrases.toarray(),\n",
    "                             columns=clustering_vectorizer.get_feature_names_out()).sum().sort_values(\n",
    "                                 ascending=False)"
   ]
  },
  {
   "cell_type": "markdown",
   "metadata": {},
   "source": [
    "- follow up on \"free\" and \"post\""
   ]
  },
  {
   "cell_type": "code",
   "execution_count": 293,
   "metadata": {},
   "outputs": [],
   "source": [
    "clustering = KMeans(n_clusters=7, random_state=42).fit(output_phrases)\n",
    "posts['cluster'] = clustering.labels_"
   ]
  },
  {
   "cell_type": "code",
   "execution_count": 294,
   "metadata": {},
   "outputs": [
    {
     "data": {
      "text/plain": [
       "array(['kmeans0', 'kmeans1', 'kmeans2', 'kmeans3', 'kmeans4', 'kmeans5',\n",
       "       'kmeans6'], dtype=object)"
      ]
     },
     "execution_count": 294,
     "metadata": {},
     "output_type": "execute_result"
    }
   ],
   "source": [
    "clustering.get_feature_names_out()"
   ]
  },
  {
   "cell_type": "code",
   "execution_count": 295,
   "metadata": {},
   "outputs": [
    {
     "data": {
      "text/plain": [
       "cluster\n",
       "0    0.154200\n",
       "1    0.014025\n",
       "2    0.090447\n",
       "3    0.114898\n",
       "4    0.525610\n",
       "5    0.051922\n",
       "6    0.048898\n",
       "Name: count, dtype: float64"
      ]
     },
     "execution_count": 295,
     "metadata": {},
     "output_type": "execute_result"
    }
   ],
   "source": [
    "posts['cluster'].value_counts().sort_index()/len(posts)"
   ]
  },
  {
   "cell_type": "code",
   "execution_count": 296,
   "metadata": {},
   "outputs": [
    {
     "data": {
      "text/plain": [
       "<Axes: ylabel='cluster'>"
      ]
     },
     "execution_count": 296,
     "metadata": {},
     "output_type": "execute_result"
    },
    {
     "data": {
      "image/png": "[encoded data removed]",
      "text/plain": [
       "<Figure size 640x480 with 1 Axes>"
      ]
     },
     "metadata": {},
     "output_type": "display_data"
    }
   ],
   "source": [
    "posts['cluster'].value_counts().sort_index(ascending=False).plot(kind='barh')"
   ]
  },
  {
   "cell_type": "code",
   "execution_count": 261,
   "metadata": {},
   "outputs": [
    {
     "data": {
      "text/plain": [
       "Index(['Unnamed: 0', 'original_index', 'subreddit', 'subreddit_id',\n",
       "       'subreddit_type', 'id', 'name', 'media', 'is_video', 'created_utc',\n",
       "       'num_comments', 'score', 'ups', 'selftext', 'author_flair_text',\n",
       "       'link_flair_text', 'poll_data', 'created', 'is_poll', 'other_platform',\n",
       "       'poll_votes', 'poll_options', 'cleaned_text', 'cluster'],\n",
       "      dtype='object')"
      ]
     },
     "execution_count": 261,
     "metadata": {},
     "output_type": "execute_result"
    }
   ],
   "source": [
    "posts.columns"
   ]
  },
  {
   "cell_type": "code",
   "execution_count": 276,
   "metadata": {},
   "outputs": [],
   "source": [
    "topic_df['cluster'] = clustering.labels_\n",
    "topic_df['is_seller'] = posts['other_platform']\n"
   ]
  },
  {
   "cell_type": "code",
   "execution_count": 306,
   "metadata": {},
   "outputs": [
    {
     "data": {
      "text/html": [
       "<div>\n",
       "<style scoped>\n",
       "    .dataframe tbody tr th:only-of-type {\n",
       "        vertical-align: middle;\n",
       "    }\n",
       "\n",
       "    .dataframe tbody tr th {\n",
       "        vertical-align: top;\n",
       "    }\n",
       "\n",
       "    .dataframe thead th {\n",
       "        text-align: right;\n",
       "    }\n",
       "</style>\n",
       "<table border=\"1\" class=\"dataframe\">\n",
       "  <thead>\n",
       "    <tr style=\"text-align: right;\">\n",
       "      <th></th>\n",
       "      <th>customer</th>\n",
       "      <th>item</th>\n",
       "      <th>selling</th>\n",
       "      <th>order</th>\n",
       "      <th>return</th>\n",
       "      <th>problem</th>\n",
       "      <th>money/payment</th>\n",
       "      <th>listing</th>\n",
       "      <th>flipping</th>\n",
       "      <th>account</th>\n",
       "      <th>images</th>\n",
       "      <th>shipping</th>\n",
       "      <th>advice</th>\n",
       "      <th>topic_count</th>\n",
       "      <th>is_seller</th>\n",
       "    </tr>\n",
       "    <tr>\n",
       "      <th>cluster</th>\n",
       "      <th></th>\n",
       "      <th></th>\n",
       "      <th></th>\n",
       "      <th></th>\n",
       "      <th></th>\n",
       "      <th></th>\n",
       "      <th></th>\n",
       "      <th></th>\n",
       "      <th></th>\n",
       "      <th></th>\n",
       "      <th></th>\n",
       "      <th></th>\n",
       "      <th></th>\n",
       "      <th></th>\n",
       "      <th></th>\n",
       "    </tr>\n",
       "  </thead>\n",
       "  <tbody>\n",
       "    <tr>\n",
       "      <th>0</th>\n",
       "      <td>6129</td>\n",
       "      <td>10431</td>\n",
       "      <td>13760</td>\n",
       "      <td>12016</td>\n",
       "      <td>2076</td>\n",
       "      <td>2914</td>\n",
       "      <td>10109</td>\n",
       "      <td>8126</td>\n",
       "      <td>1926</td>\n",
       "      <td>11942</td>\n",
       "      <td>3235</td>\n",
       "      <td>9504</td>\n",
       "      <td>9025</td>\n",
       "      <td>101193</td>\n",
       "      <td>5778</td>\n",
       "    </tr>\n",
       "    <tr>\n",
       "      <th>1</th>\n",
       "      <td>54</td>\n",
       "      <td>70</td>\n",
       "      <td>68</td>\n",
       "      <td>70</td>\n",
       "      <td>34</td>\n",
       "      <td>41</td>\n",
       "      <td>61</td>\n",
       "      <td>62</td>\n",
       "      <td>29</td>\n",
       "      <td>63</td>\n",
       "      <td>42</td>\n",
       "      <td>53</td>\n",
       "      <td>57</td>\n",
       "      <td>704</td>\n",
       "      <td>14</td>\n",
       "    </tr>\n",
       "    <tr>\n",
       "      <th>2</th>\n",
       "      <td>1159</td>\n",
       "      <td>1887</td>\n",
       "      <td>1466</td>\n",
       "      <td>1469</td>\n",
       "      <td>735</td>\n",
       "      <td>715</td>\n",
       "      <td>1373</td>\n",
       "      <td>1121</td>\n",
       "      <td>284</td>\n",
       "      <td>1163</td>\n",
       "      <td>595</td>\n",
       "      <td>1448</td>\n",
       "      <td>884</td>\n",
       "      <td>14299</td>\n",
       "      <td>379</td>\n",
       "    </tr>\n",
       "    <tr>\n",
       "      <th>3</th>\n",
       "      <td>7621</td>\n",
       "      <td>29092</td>\n",
       "      <td>12391</td>\n",
       "      <td>12993</td>\n",
       "      <td>3171</td>\n",
       "      <td>3075</td>\n",
       "      <td>11134</td>\n",
       "      <td>7448</td>\n",
       "      <td>1516</td>\n",
       "      <td>9241</td>\n",
       "      <td>2321</td>\n",
       "      <td>12597</td>\n",
       "      <td>5274</td>\n",
       "      <td>117874</td>\n",
       "      <td>5004</td>\n",
       "    </tr>\n",
       "    <tr>\n",
       "      <th>4</th>\n",
       "      <td>11698</td>\n",
       "      <td>5408</td>\n",
       "      <td>25697</td>\n",
       "      <td>24949</td>\n",
       "      <td>4288</td>\n",
       "      <td>5632</td>\n",
       "      <td>19501</td>\n",
       "      <td>14055</td>\n",
       "      <td>3710</td>\n",
       "      <td>24965</td>\n",
       "      <td>4790</td>\n",
       "      <td>23172</td>\n",
       "      <td>13124</td>\n",
       "      <td>180989</td>\n",
       "      <td>15617</td>\n",
       "    </tr>\n",
       "    <tr>\n",
       "      <th>5</th>\n",
       "      <td>3074</td>\n",
       "      <td>4762</td>\n",
       "      <td>5875</td>\n",
       "      <td>4885</td>\n",
       "      <td>1331</td>\n",
       "      <td>1635</td>\n",
       "      <td>4748</td>\n",
       "      <td>3297</td>\n",
       "      <td>932</td>\n",
       "      <td>5003</td>\n",
       "      <td>1341</td>\n",
       "      <td>4661</td>\n",
       "      <td>3630</td>\n",
       "      <td>45174</td>\n",
       "      <td>2185</td>\n",
       "    </tr>\n",
       "    <tr>\n",
       "      <th>6</th>\n",
       "      <td>4347</td>\n",
       "      <td>10357</td>\n",
       "      <td>6253</td>\n",
       "      <td>6113</td>\n",
       "      <td>2161</td>\n",
       "      <td>2062</td>\n",
       "      <td>5373</td>\n",
       "      <td>4014</td>\n",
       "      <td>787</td>\n",
       "      <td>4429</td>\n",
       "      <td>1530</td>\n",
       "      <td>5839</td>\n",
       "      <td>2957</td>\n",
       "      <td>56222</td>\n",
       "      <td>1948</td>\n",
       "    </tr>\n",
       "    <tr>\n",
       "      <th>7</th>\n",
       "      <td>2466</td>\n",
       "      <td>3266</td>\n",
       "      <td>3084</td>\n",
       "      <td>3319</td>\n",
       "      <td>1758</td>\n",
       "      <td>1821</td>\n",
       "      <td>2864</td>\n",
       "      <td>2255</td>\n",
       "      <td>462</td>\n",
       "      <td>2803</td>\n",
       "      <td>1161</td>\n",
       "      <td>3436</td>\n",
       "      <td>1866</td>\n",
       "      <td>30561</td>\n",
       "      <td>847</td>\n",
       "    </tr>\n",
       "    <tr>\n",
       "      <th>8</th>\n",
       "      <td>5774</td>\n",
       "      <td>6987</td>\n",
       "      <td>7793</td>\n",
       "      <td>8934</td>\n",
       "      <td>3274</td>\n",
       "      <td>3301</td>\n",
       "      <td>6697</td>\n",
       "      <td>4986</td>\n",
       "      <td>958</td>\n",
       "      <td>7266</td>\n",
       "      <td>2086</td>\n",
       "      <td>9130</td>\n",
       "      <td>4089</td>\n",
       "      <td>71275</td>\n",
       "      <td>3007</td>\n",
       "    </tr>\n",
       "    <tr>\n",
       "      <th>9</th>\n",
       "      <td>326</td>\n",
       "      <td>437</td>\n",
       "      <td>441</td>\n",
       "      <td>451</td>\n",
       "      <td>276</td>\n",
       "      <td>325</td>\n",
       "      <td>423</td>\n",
       "      <td>338</td>\n",
       "      <td>127</td>\n",
       "      <td>414</td>\n",
       "      <td>226</td>\n",
       "      <td>437</td>\n",
       "      <td>315</td>\n",
       "      <td>4536</td>\n",
       "      <td>97</td>\n",
       "    </tr>\n",
       "  </tbody>\n",
       "</table>\n",
       "</div>"
      ],
      "text/plain": [
       "         customer   item  selling  order  return  problem  money/payment  \\\n",
       "cluster                                                                    \n",
       "0            6129  10431    13760  12016    2076     2914          10109   \n",
       "1              54     70       68     70      34       41             61   \n",
       "2            1159   1887     1466   1469     735      715           1373   \n",
       "3            7621  29092    12391  12993    3171     3075          11134   \n",
       "4           11698   5408    25697  24949    4288     5632          19501   \n",
       "5            3074   4762     5875   4885    1331     1635           4748   \n",
       "6            4347  10357     6253   6113    2161     2062           5373   \n",
       "7            2466   3266     3084   3319    1758     1821           2864   \n",
       "8            5774   6987     7793   8934    3274     3301           6697   \n",
       "9             326    437      441    451     276      325            423   \n",
       "\n",
       "         listing  flipping  account  images  shipping  advice  topic_count  \\\n",
       "cluster                                                                      \n",
       "0           8126      1926    11942    3235      9504    9025       101193   \n",
       "1             62        29       63      42        53      57          704   \n",
       "2           1121       284     1163     595      1448     884        14299   \n",
       "3           7448      1516     9241    2321     12597    5274       117874   \n",
       "4          14055      3710    24965    4790     23172   13124       180989   \n",
       "5           3297       932     5003    1341      4661    3630        45174   \n",
       "6           4014       787     4429    1530      5839    2957        56222   \n",
       "7           2255       462     2803    1161      3436    1866        30561   \n",
       "8           4986       958     7266    2086      9130    4089        71275   \n",
       "9            338       127      414     226       437     315         4536   \n",
       "\n",
       "        is_seller  \n",
       "cluster            \n",
       "0            5778  \n",
       "1              14  \n",
       "2             379  \n",
       "3            5004  \n",
       "4           15617  \n",
       "5            2185  \n",
       "6            1948  \n",
       "7             847  \n",
       "8            3007  \n",
       "9              97  "
      ]
     },
     "execution_count": 306,
     "metadata": {},
     "output_type": "execute_result"
    }
   ],
   "source": [
    "topic_df.groupby(by='cluster').sum()"
   ]
  },
  {
   "cell_type": "code",
   "execution_count": 194,
   "metadata": {},
   "outputs": [],
   "source": [
    "# checking for subfolder, if not create\n",
    "if not os.path.exists(f\"./Data/preprocessed/\"):\n",
    "    os.makedirs(\"./Data/preprocessed/\") \n",
    "# exporting CSV\n",
    "posts.to_csv('./Data/preprocessed/posts.csv')\n",
    "comments.to_csv('./Data/preprocessed/comments.csv')\n",
    "posts[['id','selftext']].to_csv('./Data/preprocessed/posts_sentiment_data.csv', index=False)"
   ]
  },
  {
   "cell_type": "code",
   "execution_count": 307,
   "metadata": {},
   "outputs": [
    {
     "data": {
      "text/plain": [
       "218798"
      ]
     },
     "execution_count": 307,
     "metadata": {},
     "output_type": "execute_result"
    }
   ],
   "source": [
    "posts[posts['poll_votes']>0]['poll_votes'].sum()"
   ]
  },
  {
   "cell_type": "code",
   "execution_count": 305,
   "metadata": {},
   "outputs": [
    {
     "data": {
      "text/plain": [
       "is_poll\n",
       "0    177071\n",
       "1     10730\n",
       "Name: count, dtype: int64"
      ]
     },
     "execution_count": 305,
     "metadata": {},
     "output_type": "execute_result"
    }
   ],
   "source": [
    "posts['is_poll'].value_counts()"
   ]
  },
  {
   "cell_type": "code",
   "execution_count": 314,
   "metadata": {},
   "outputs": [
    {
     "data": {
      "text/plain": [
       "subreddit\n",
       "Depop          927\n",
       "EtsySellers    143\n",
       "Flipping         6\n",
       "Grailed          2\n",
       "poshmark        71\n",
       "stockx          38\n",
       "Name: is_poll, dtype: int64"
      ]
     },
     "execution_count": 314,
     "metadata": {},
     "output_type": "execute_result"
    }
   ],
   "source": [
    "posts[posts['poll_votes']>0].groupby(by='subreddit')['is_poll'].sum()"
   ]
  },
  {
   "cell_type": "code",
   "execution_count": 319,
   "metadata": {},
   "outputs": [
    {
     "data": {
      "text/plain": [
       "poll_votes\n",
       "-1      9542\n",
       " 187      14\n",
       " 136      12\n",
       " 137      12\n",
       " 134      11\n",
       "        ... \n",
       " 250       1\n",
       " 402       1\n",
       " 549       1\n",
       " 406       1\n",
       " 13        1\n",
       "Name: count, Length: 351, dtype: int64"
      ]
     },
     "execution_count": 319,
     "metadata": {},
     "output_type": "execute_result"
    }
   ],
   "source": [
    "posts[posts.is_poll==1]['poll_votes'].value_counts()"
   ]
  },
  {
   "cell_type": "code",
   "execution_count": 322,
   "metadata": {},
   "outputs": [
    {
     "data": {
      "text/plain": [
       "is_poll\n",
       "1    1187\n",
       "Name: count, dtype: int64"
      ]
     },
     "execution_count": 322,
     "metadata": {},
     "output_type": "execute_result"
    }
   ],
   "source": [
    "posts[posts['poll_votes']>0].is_poll.value_counts()"
   ]
  },
  {
   "cell_type": "code",
   "execution_count": 323,
   "metadata": {},
   "outputs": [
    {
     "data": {
      "text/plain": [
       "184.3285593934288"
      ]
     },
     "execution_count": 323,
     "metadata": {},
     "output_type": "execute_result"
    }
   ],
   "source": [
    "218798/1187"
   ]
  },
  {
   "cell_type": "code",
   "execution_count": null,
   "metadata": {},
   "outputs": [],
   "source": []
  }
 ],
 "metadata": {
  "kernelspec": {
   "display_name": "work_env",
   "language": "python",
   "name": "python3"
  },
  "language_info": {
   "codemirror_mode": {
    "name": "ipython",
    "version": 3
   },
   "file_extension": ".py",
   "mimetype": "text/x-python",
   "name": "python",
   "nbconvert_exporter": "python",
   "pygments_lexer": "ipython3",
   "version": "3.11.8"
  }
 },
 "nbformat": 4,
 "nbformat_minor": 2
}
